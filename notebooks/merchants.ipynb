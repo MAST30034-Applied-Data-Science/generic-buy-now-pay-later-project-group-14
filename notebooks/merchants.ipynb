{
 "cells": [
  {
   "cell_type": "code",
   "execution_count": 1,
   "metadata": {},
   "outputs": [],
   "source": [
    "import pandas as pd"
   ]
  },
  {
   "cell_type": "code",
   "execution_count": 2,
   "metadata": {},
   "outputs": [
    {
     "name": "stdout",
     "output_type": "stream",
     "text": [
      "Number of merchants in the dataset: 4026\n",
      "Columns in merchant dataset: ['merchant_abn', 'name', 'tags']\n"
     ]
    },
    {
     "data": {
      "text/html": [
       "<div>\n",
       "<style scoped>\n",
       "    .dataframe tbody tr th:only-of-type {\n",
       "        vertical-align: middle;\n",
       "    }\n",
       "\n",
       "    .dataframe tbody tr th {\n",
       "        vertical-align: top;\n",
       "    }\n",
       "\n",
       "    .dataframe thead th {\n",
       "        text-align: right;\n",
       "    }\n",
       "</style>\n",
       "<table border=\"1\" class=\"dataframe\">\n",
       "  <thead>\n",
       "    <tr style=\"text-align: right;\">\n",
       "      <th></th>\n",
       "      <th>name</th>\n",
       "      <th>tags</th>\n",
       "      <th>revenue_level</th>\n",
       "      <th>take_rate</th>\n",
       "    </tr>\n",
       "    <tr>\n",
       "      <th>merchant_abn</th>\n",
       "      <th></th>\n",
       "      <th></th>\n",
       "      <th></th>\n",
       "      <th></th>\n",
       "    </tr>\n",
       "  </thead>\n",
       "  <tbody>\n",
       "    <tr>\n",
       "      <th>10023283211</th>\n",
       "      <td>Felis Limited</td>\n",
       "      <td>furniture, home furnishings and equipment shop...</td>\n",
       "      <td>e</td>\n",
       "      <td>0.18</td>\n",
       "    </tr>\n",
       "    <tr>\n",
       "      <th>10142254217</th>\n",
       "      <td>Arcu Ac Orci Corporation</td>\n",
       "      <td>cable, satellite, and other pay television and...</td>\n",
       "      <td>b</td>\n",
       "      <td>4.22</td>\n",
       "    </tr>\n",
       "    <tr>\n",
       "      <th>10165489824</th>\n",
       "      <td>Nunc Sed Company</td>\n",
       "      <td>jewelry, watch, clock, and silverware shops</td>\n",
       "      <td>b</td>\n",
       "      <td>4.40</td>\n",
       "    </tr>\n",
       "    <tr>\n",
       "      <th>10187291046</th>\n",
       "      <td>Ultricies Dignissim Lacus Foundation</td>\n",
       "      <td>watch, clock, and jewelry repair shops</td>\n",
       "      <td>b</td>\n",
       "      <td>3.29</td>\n",
       "    </tr>\n",
       "    <tr>\n",
       "      <th>10192359162</th>\n",
       "      <td>Enim Condimentum PC</td>\n",
       "      <td>music shops - musical instruments, pianos, and...</td>\n",
       "      <td>a</td>\n",
       "      <td>6.33</td>\n",
       "    </tr>\n",
       "    <tr>\n",
       "      <th>...</th>\n",
       "      <td>...</td>\n",
       "      <td>...</td>\n",
       "      <td>...</td>\n",
       "      <td>...</td>\n",
       "    </tr>\n",
       "    <tr>\n",
       "      <th>99938978285</th>\n",
       "      <td>Elit Dictum Eu Ltd</td>\n",
       "      <td>opticians, optical goods, and eyeglasses</td>\n",
       "      <td>b</td>\n",
       "      <td>4.50</td>\n",
       "    </tr>\n",
       "    <tr>\n",
       "      <th>99974311662</th>\n",
       "      <td>Mollis LLP</td>\n",
       "      <td>books, periodicals, and newspapers</td>\n",
       "      <td>b</td>\n",
       "      <td>3.17</td>\n",
       "    </tr>\n",
       "    <tr>\n",
       "      <th>99976658299</th>\n",
       "      <td>Sociosqu Corp.</td>\n",
       "      <td>shoe  shops</td>\n",
       "      <td>a</td>\n",
       "      <td>6.57</td>\n",
       "    </tr>\n",
       "    <tr>\n",
       "      <th>99987905597</th>\n",
       "      <td>Commodo Hendrerit LLC</td>\n",
       "      <td>motor vehicle supplies and new parts</td>\n",
       "      <td>a</td>\n",
       "      <td>6.82</td>\n",
       "    </tr>\n",
       "    <tr>\n",
       "      <th>99990536339</th>\n",
       "      <td>Massa PC</td>\n",
       "      <td>motor vehicle supplies and new parts</td>\n",
       "      <td>e</td>\n",
       "      <td>0.18</td>\n",
       "    </tr>\n",
       "  </tbody>\n",
       "</table>\n",
       "<p>4026 rows × 4 columns</p>\n",
       "</div>"
      ],
      "text/plain": [
       "                                              name  \\\n",
       "merchant_abn                                         \n",
       "10023283211                          Felis Limited   \n",
       "10142254217               Arcu Ac Orci Corporation   \n",
       "10165489824                       Nunc Sed Company   \n",
       "10187291046   Ultricies Dignissim Lacus Foundation   \n",
       "10192359162                    Enim Condimentum PC   \n",
       "...                                            ...   \n",
       "99938978285                     Elit Dictum Eu Ltd   \n",
       "99974311662                             Mollis LLP   \n",
       "99976658299                         Sociosqu Corp.   \n",
       "99987905597                  Commodo Hendrerit LLC   \n",
       "99990536339                               Massa PC   \n",
       "\n",
       "                                                           tags revenue_level  \\\n",
       "merchant_abn                                                                    \n",
       "10023283211   furniture, home furnishings and equipment shop...             e   \n",
       "10142254217   cable, satellite, and other pay television and...             b   \n",
       "10165489824         jewelry, watch, clock, and silverware shops             b   \n",
       "10187291046              watch, clock, and jewelry repair shops             b   \n",
       "10192359162   music shops - musical instruments, pianos, and...             a   \n",
       "...                                                         ...           ...   \n",
       "99938978285            opticians, optical goods, and eyeglasses             b   \n",
       "99974311662                  books, periodicals, and newspapers             b   \n",
       "99976658299                                         shoe  shops             a   \n",
       "99987905597                motor vehicle supplies and new parts             a   \n",
       "99990536339                motor vehicle supplies and new parts             e   \n",
       "\n",
       "              take_rate  \n",
       "merchant_abn             \n",
       "10023283211        0.18  \n",
       "10142254217        4.22  \n",
       "10165489824        4.40  \n",
       "10187291046        3.29  \n",
       "10192359162        6.33  \n",
       "...                 ...  \n",
       "99938978285        4.50  \n",
       "99974311662        3.17  \n",
       "99976658299        6.57  \n",
       "99987905597        6.82  \n",
       "99990536339        0.18  \n",
       "\n",
       "[4026 rows x 4 columns]"
      ]
     },
     "execution_count": 2,
     "metadata": {},
     "output_type": "execute_result"
    }
   ],
   "source": [
    "merchant_df = pd.read_parquet(\"../data/tables/tbl_merchants.parquet\")\n",
    "print(\"Number of merchants in the dataset:\", merchant_df.shape[0])\n",
    "print(\"Columns in merchant dataset:\", [merchant_df.index.name] + merchant_df.columns.tolist())\n",
    "\n",
    "# extract tags, revenue level and take rate from the \"tags\" column\n",
    "merchant_df[\"tags\"] = merchant_df[\"tags\"].str.findall(r'[\\(\\[]+([^\\)\\]]*)[\\)\\]]')\n",
    "merchant_df[\"revenue_level\"] = merchant_df[\"tags\"].str[1]\n",
    "merchant_df[\"take_rate\"] = merchant_df[\"tags\"].str[2].str.extract(r'[^\\d]*([\\d.]*)').astype(float)\n",
    "merchant_df[\"tags\"] = merchant_df[\"tags\"].str[0].str.lower()  # convert all letters to lowercase\n",
    "merchant_df"
   ]
  },
  {
   "cell_type": "code",
   "execution_count": 45,
   "metadata": {},
   "outputs": [
    {
     "data": {
      "text/plain": [
       "merchant_abn\n",
       "10023283211    furniture, home furnishings and equipment shops, and manufacturers, except appliances\n",
       "10142254217                            cable, satellite, and other pay television and radio services\n",
       "10165489824                                              jewelry, watch, clock, and silverware shops\n",
       "10187291046                                                   watch, clock, and jewelry repair shops\n",
       "10192359162                               music shops - musical instruments, pianos, and sheet music\n",
       "                                                       ...                                          \n",
       "99938978285                                                 opticians, optical goods, and eyeglasses\n",
       "99974311662                                                       books, periodicals, and newspapers\n",
       "99976658299                                                                              shoe  shops\n",
       "99987905597                                                     motor vehicle supplies and new parts\n",
       "99990536339                                                     motor vehicle supplies and new parts\n",
       "Name: tags, Length: 4026, dtype: object"
      ]
     },
     "metadata": {},
     "output_type": "display_data"
    }
   ],
   "source": [
    "#if need un truncated data, run this:\n",
    "# with pd.option_context('display.max_colwidth', None):\n",
    "#   display(merchant_df['tags'])"
   ]
  },
  {
   "cell_type": "code",
   "execution_count": 3,
   "metadata": {},
   "outputs": [],
   "source": [
    "merchant_df['tags'] = merchant_df['tags'].str.split(',')\n",
    "merchant_df['tags'] = merchant_df['tags'].str[0]"
   ]
  },
  {
   "cell_type": "code",
   "execution_count": 4,
   "metadata": {},
   "outputs": [],
   "source": [
    "merchant_df['tags'] = merchant_df['tags'].str.split(' ')\n",
    "merchant_df['tags'] = merchant_df['tags'].str[0]"
   ]
  },
  {
   "cell_type": "code",
   "execution_count": 5,
   "metadata": {},
   "outputs": [],
   "source": [
    "merchant_df.loc[merchant_df.tags == 'computers', 'tags'] = 'computer'\n",
    "merchant_df.loc[merchant_df.tags == 'artist', 'tags'] = 'artist supply'\n",
    "merchant_df.loc[merchant_df.tags == 'art', 'tags'] = 'art dealer'\n",
    "merchant_df.loc[merchant_df.tags == 'digital', 'tags'] = 'digital goods'\n",
    "merchant_df.loc[merchant_df.tags == 'lawn', 'tags'] = 'garden supply'"
   ]
  },
  {
   "cell_type": "code",
   "execution_count": 6,
   "metadata": {},
   "outputs": [
    {
     "data": {
      "text/plain": [
       "array(['furniture', 'cable', 'jewelry', 'watch', 'music', 'gift',\n",
       "       'computer', 'equipment', 'artist supply', 'florists', 'antique',\n",
       "       'motor', 'books', 'stationery', 'tent', 'art dealer', 'bicycle',\n",
       "       'digital goods', 'shoe', 'opticians', 'health', 'hobby',\n",
       "       'garden supply', 'telecom'], dtype=object)"
      ]
     },
     "execution_count": 6,
     "metadata": {},
     "output_type": "execute_result"
    }
   ],
   "source": [
    "merchant_df['tags'].unique()"
   ]
  },
  {
   "cell_type": "code",
   "execution_count": 7,
   "metadata": {},
   "outputs": [],
   "source": [
    "merchant_df.to_csv('../data/curated/merchant.csv')"
   ]
  }
 ],
 "metadata": {
  "kernelspec": {
   "display_name": "xt",
   "language": "python",
   "name": "xt"
  },
  "language_info": {
   "codemirror_mode": {
    "name": "ipython",
    "version": 3
   },
   "file_extension": ".py",
   "mimetype": "text/x-python",
   "name": "python",
   "nbconvert_exporter": "python",
   "pygments_lexer": "ipython3",
   "version": "3.7.13"
  },
  "orig_nbformat": 4,
  "vscode": {
   "interpreter": {
    "hash": "31f2aee4e71d21fbe5cf8b01ff0e069b9275f58929596ceb00d14d90e3e16cd6"
   }
  }
 },
 "nbformat": 4,
 "nbformat_minor": 2
}
