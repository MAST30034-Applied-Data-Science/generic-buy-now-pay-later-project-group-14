{
 "cells": [
  {
   "cell_type": "code",
   "execution_count": 26,
   "metadata": {},
   "outputs": [],
   "source": [
    "import matplotlib\n",
    "import matplotlib.pyplot as plt\n",
    "import pandas as pd\n",
    "import seaborn as sns\n",
    "import pandasql as ps\n",
    "sns.set()"
   ]
  },
  {
   "cell_type": "code",
   "execution_count": null,
   "metadata": {},
   "outputs": [],
   "source": [
    "merchant_df=pd.read_csv('../data/curated/merchant.csv')"
   ]
  },
  {
   "cell_type": "code",
   "execution_count": null,
   "metadata": {},
   "outputs": [],
   "source": [
    "from collections import defaultdict\n",
    "revenue_level=merchant_df['revenue_level']\n",
    "dict_revenue=defaultdict(int)\n",
    "for each in revenue_level:\n",
    "    dict_revenue[each]+=1\n",
    "print(dict_revenue)"
   ]
  },
  {
   "cell_type": "code",
   "execution_count": null,
   "metadata": {},
   "outputs": [],
   "source": [
    "matplotlib.rcParams['font.sans-serif'] = ['SimHei']\n",
    "matplotlib.rcParams['axes.unicode_minus'] = False\n",
    "\n",
    "label_list =dict_revenue.keys()\n",
    "size =dict_revenue.values()\n",
    "patches, l_text, p_text = plt.pie(size,labels=label_list, labeldistance=1.1, autopct=\"%1.1f%%\", shadow=False, startangle=90, pctdistance=0.6)\n",
    "plt.axis(\"equal\")\n",
    "plt.legend()\n",
    "plt.show()"
   ]
  },
  {
   "cell_type": "code",
   "execution_count": null,
   "metadata": {},
   "outputs": [],
   "source": [
    "tags_plot = sns.countplot(y=\"tags\", \n",
    "                          data=merchant_df)\n",
    "tags_plot.set_xlabel(\"Tags\", fontsize = 18)\n",
    "tags_plot.set_ylabel(\"Count\", fontsize = 18)\n",
    "tags_plot.set_yticklabels(merchant_df[\"tags\"].unique(),fontsize = 15)\n",
    "tags_plot.set_xticklabels(tags_plot.get_xticks(),fontsize = 15)\n",
    "tags_plot.set_title(\"Number of Merchants Under Each Tag\", fontsize = 20)\n",
    "sns.set_palette(\"pastel\")"
   ]
  },
  {
   "cell_type": "code",
   "execution_count": null,
   "metadata": {},
   "outputs": [],
   "source": [
    "query = \"\"\"SELECT tags, AVG(take_rate) AS 'mean_take_rate'\n",
    "            FROM merchant_df\n",
    "            GROUP BY tags\n",
    "            ORDER BY mean_take_rate DESC\"\"\"\n",
    "\n",
    "\n",
    "print(ps.sqldf(query))"
   ]
  }
 ],
 "metadata": {
  "kernelspec": {
   "display_name": "Python 3.8.9 64-bit",
   "language": "python",
   "name": "python3"
  },
  "language_info": {
   "codemirror_mode": {
    "name": "ipython",
    "version": 3
   },
   "file_extension": ".py",
   "mimetype": "text/x-python",
   "name": "python",
   "nbconvert_exporter": "python",
   "pygments_lexer": "ipython3",
   "version": "3.8.9"
  },
  "orig_nbformat": 4,
  "vscode": {
   "interpreter": {
    "hash": "31f2aee4e71d21fbe5cf8b01ff0e069b9275f58929596ceb00d14d90e3e16cd6"
   }
  }
 },
 "nbformat": 4,
 "nbformat_minor": 2
}
